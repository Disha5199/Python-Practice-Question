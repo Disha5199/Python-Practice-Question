{
  "nbformat": 4,
  "nbformat_minor": 0,
  "metadata": {
    "colab": {
      "provenance": [],
      "toc_visible": true,
      "authorship_tag": "ABX9TyPGLaQ8UVcQfoHyVgHAdP2s",
      "include_colab_link": true
    },
    "kernelspec": {
      "name": "python3",
      "display_name": "Python 3"
    },
    "language_info": {
      "name": "python"
    }
  },
  "cells": [
    {
      "cell_type": "markdown",
      "metadata": {
        "id": "view-in-github",
        "colab_type": "text"
      },
      "source": [
        "<a href=\"https://colab.research.google.com/github/Disha5199/Python-Practice-Question/blob/main/python_%3F_.ipynb\" target=\"_parent\"><img src=\"https://colab.research.google.com/assets/colab-badge.svg\" alt=\"Open In Colab\"/></a>"
      ]
    },
    {
      "cell_type": "code",
      "execution_count": null,
      "metadata": {
        "colab": {
          "base_uri": "https://localhost:8080/"
        },
        "id": "nfZVVUJ1WRbN",
        "outputId": "540838bc-879a-43c6-f095-bc3c8713d511"
      },
      "outputs": [
        {
          "output_type": "stream",
          "name": "stdout",
          "text": [
            "Reversed: olleh\n"
          ]
        }
      ],
      "source": [
        "#Q1) Reverse a string without using built-in methods.\n",
        "s = \"hello\"\n",
        "rev = \"\"\n",
        "for i in s:\n",
        "    rev = i + rev\n",
        "print(\"Reversed:\", rev)\n",
        "\n"
      ]
    },
    {
      "cell_type": "code",
      "source": [
        "#Q2) Check if a string is a palindrome.\n",
        "s = \"madam\"\n",
        "rev = \"\"\n",
        "for i in s:\n",
        "    rev = i + rev\n",
        "\n",
        "if s == rev:\n",
        "    print(\"is Palindrome\")\n",
        "else:\n",
        "    print(\"is Not Palindrome\")\n"
      ],
      "metadata": {
        "colab": {
          "base_uri": "https://localhost:8080/"
        },
        "id": "edLIpXMaXAfq",
        "outputId": "7acf39d7-c6ac-44bd-d049-35ff81a8709b"
      },
      "execution_count": null,
      "outputs": [
        {
          "output_type": "stream",
          "name": "stdout",
          "text": [
            "is Palindrome\n"
          ]
        }
      ]
    },
    {
      "cell_type": "code",
      "source": [
        "#Q3) Find factorial of a number using recursion\n",
        "def factorial(n):\n",
        "    if n == 0 or n == 1:\n",
        "        return 1\n",
        "    else:\n",
        "        return n * factorial(n - 1)\n",
        "\n",
        "print(\"Factorial:\", factorial(5))\n"
      ],
      "metadata": {
        "colab": {
          "base_uri": "https://localhost:8080/"
        },
        "id": "e43oRJxtXAbx",
        "outputId": "d7632272-e8ce-4b6c-e49e-d4dbb65e5a1e"
      },
      "execution_count": null,
      "outputs": [
        {
          "output_type": "stream",
          "name": "stdout",
          "text": [
            "Factorial: 120\n"
          ]
        }
      ]
    },
    {
      "cell_type": "code",
      "source": [
        "#Q4) Print Fibonacci sequence up to n terms.\n",
        "def fibonacci(n):\n",
        "    a, b = 0, 1\n",
        "    for _ in range(n):\n",
        "        print(a, end=' ')\n",
        "        a, b = b, a + b\n",
        "\n",
        "fibonacci(10)\n"
      ],
      "metadata": {
        "colab": {
          "base_uri": "https://localhost:8080/"
        },
        "id": "NeBuYuneXAZn",
        "outputId": "13a82517-1e2d-490b-aa40-bbb9bd43c3e1"
      },
      "execution_count": null,
      "outputs": [
        {
          "output_type": "stream",
          "name": "stdout",
          "text": [
            "0 1 1 2 3 5 8 13 21 34 "
          ]
        }
      ]
    },
    {
      "cell_type": "code",
      "source": [
        "#Q5) Check if a number is prime.\n",
        "num = 17\n",
        "is_prime = True\n",
        "\n",
        "if num <= 1:\n",
        "    is_prime = False\n",
        "else:\n",
        "    for i in range(2, num):\n",
        "        if num % i == 0:\n",
        "            is_prime = False\n",
        "            break\n",
        "\n",
        "if is_prime:\n",
        "    print(\"Prime\")\n",
        "else:\n",
        "    print(\"Not Prime\")\n"
      ],
      "metadata": {
        "colab": {
          "base_uri": "https://localhost:8080/"
        },
        "id": "vGMNG85fXAW9",
        "outputId": "1863a9e0-ba2a-4aac-f65c-cad617b36133"
      },
      "execution_count": null,
      "outputs": [
        {
          "output_type": "stream",
          "name": "stdout",
          "text": [
            "Prime\n"
          ]
        }
      ]
    },
    {
      "cell_type": "code",
      "source": [
        "#Q6)Count vowels and consonants in a string.\n",
        "s = \"Hello Disha\"\n",
        "vowels = \"aeiouAEIOU\"\n",
        "v = c = 0\n",
        "\n",
        "for char in s:\n",
        "    if char.isalpha():\n",
        "        if char in vowels:\n",
        "            v += 1\n",
        "        else:\n",
        "            c += 1\n",
        "\n",
        "print(\"Vowels:\", v)\n",
        "print(\"Consonants:\", c)\n"
      ],
      "metadata": {
        "colab": {
          "base_uri": "https://localhost:8080/"
        },
        "id": "3Arpj1ugXAUE",
        "outputId": "6b044610-d19d-46b7-ab74-ab6c1ea8dfe7"
      },
      "execution_count": null,
      "outputs": [
        {
          "output_type": "stream",
          "name": "stdout",
          "text": [
            "Vowels: 4\n",
            "Consonants: 6\n"
          ]
        }
      ]
    },
    {
      "cell_type": "code",
      "source": [
        "#Q7) Find the largest and smallest number in a list.\n",
        "# Take input from user\n",
        "user_input = input(\"Enter numbers separated by space: \")\n",
        "lst = list(map(int, user_input.split()))\n",
        "\n",
        "# Bubble Sort\n",
        "for i in range(len(lst)):\n",
        "    for j in range(len(lst) - 1):\n",
        "        if lst[j] > lst[j + 1]:\n",
        "            lst[j], lst[j + 1] = lst[j + 1], lst[j]\n",
        "\n",
        "print(\"Sorted List:\", lst)\n"
      ],
      "metadata": {
        "id": "VxS3jBSkXAPJ",
        "colab": {
          "base_uri": "https://localhost:8080/"
        },
        "outputId": "b01727fc-c18a-4147-beec-9a3c9eac2e47"
      },
      "execution_count": null,
      "outputs": [
        {
          "output_type": "stream",
          "name": "stdout",
          "text": [
            "Enter numbers separated by space: 78 7 5 57 89 19 10\n",
            "Sorted List: [5, 7, 10, 19, 57, 78, 89]\n"
          ]
        }
      ]
    },
    {
      "cell_type": "code",
      "source": [
        "#Q8)Remove duplicates from a list.\n",
        "original = [1, 2, 2, 3, 4, 4, 5]\n",
        "unique = []\n",
        "\n",
        "for item in original:\n",
        "    if item not in unique:\n",
        "        unique.append(item)\n",
        "\n",
        "print(\"Without Duplicates:\", unique)\n"
      ],
      "metadata": {
        "colab": {
          "base_uri": "https://localhost:8080/"
        },
        "id": "9TwCOe9PbjQw",
        "outputId": "f4d2174f-191c-4f1e-f389-2161a8d24cd4"
      },
      "execution_count": null,
      "outputs": [
        {
          "output_type": "stream",
          "name": "stdout",
          "text": [
            "Without Duplicates: [1, 2, 3, 4, 5]\n"
          ]
        }
      ]
    },
    {
      "cell_type": "code",
      "source": [
        "#Q9)Sort a list without using built-in sort.\n",
        "# Take input from user\n",
        "user_input = input(\"Enter numbers separated by space: \")\n",
        "lst = list(map(int, user_input.split()))\n",
        "\n",
        "# Bubble Sort\n",
        "for i in range(len(lst)):\n",
        "    for j in range(len(lst) - 1):\n",
        "        if lst[j] > lst[j + 1]:\n",
        "            lst[j], lst[j + 1] = lst[j + 1], lst[j]\n",
        "\n",
        "print(\"Sorted List:\", lst)\n",
        "\n"
      ],
      "metadata": {
        "colab": {
          "base_uri": "https://localhost:8080/"
        },
        "id": "SzAQH-aebjNs",
        "outputId": "1288ccce-b9bc-4b8e-f430-626fa7054903"
      },
      "execution_count": null,
      "outputs": [
        {
          "output_type": "stream",
          "name": "stdout",
          "text": [
            "Enter numbers separated by space: 3 78 87 767 5687 \n",
            "Sorted List: [3, 78, 87, 767, 5687]\n"
          ]
        }
      ]
    },
    {
      "cell_type": "code",
      "source": [
        "#Q10)Swap two numbers without using a third variable\n",
        "\n",
        "#Swap two numbers without using a third variable.\n",
        "a = 10\n",
        "b = 20\n",
        "\n",
        "a = a + b  # a becomes 30\n",
        "b = a - b  # b becomes 10\n",
        "a = a - b  # a becomes 20\n",
        "\n",
        "print(\"a:\", a)\n",
        "print(\"b:\", b)\n"
      ],
      "metadata": {
        "colab": {
          "base_uri": "https://localhost:8080/"
        },
        "id": "RFyD9UjPXAMm",
        "outputId": "58fa2043-c6b1-4a47-e5e7-e63272a4bed9"
      },
      "execution_count": null,
      "outputs": [
        {
          "output_type": "stream",
          "name": "stdout",
          "text": [
            "a: 20\n",
            "b: 10\n"
          ]
        }
      ]
    },
    {
      "cell_type": "code",
      "source": [
        "#Q11)Implement a binary search.\n",
        "def binary_search(arr, target):\n",
        "    left = 0\n",
        "    right = len(arr) - 1\n",
        "\n",
        "    while left <= right:\n",
        "        mid = (left + right) // 2\n",
        "\n",
        "        if arr[mid] == target:\n",
        "            return mid  # Found\n",
        "        elif arr[mid] < target:\n",
        "            left = mid + 1\n",
        "        else:\n",
        "            right = mid - 1\n",
        "\n",
        "    return -1  # Not found\n",
        "\n",
        "# Example\n",
        "arr = [1, 3, 5, 7, 9, 11]\n",
        "target = 7\n",
        "result = binary_search(arr, target)\n",
        "\n",
        "if result != -1:\n",
        "    print(f\"Element {target} found at index {result}\")\n",
        "else:\n",
        "    print(f\"Element {target} not found\")\n",
        "\n",
        "\n"
      ],
      "metadata": {
        "id": "RT09UoURXAKQ",
        "colab": {
          "base_uri": "https://localhost:8080/"
        },
        "outputId": "76b0ee9b-36ff-4948-fe2d-45107803c4c8"
      },
      "execution_count": 47,
      "outputs": [
        {
          "output_type": "stream",
          "name": "stdout",
          "text": [
            "Element 7 found at index 3\n"
          ]
        }
      ]
    },
    {
      "cell_type": "code",
      "source": [
        "#Q12)Find the second largest number in a list.\n",
        "lst = list(map(int, input(\"Enter numbers: \").split()))\n",
        "lst = list(set(lst))  # Remove duplicates\n",
        "\n",
        "lst.sort()\n",
        "if len(lst) >= 2:\n",
        "    print(\"Second largest number:\", lst[-2])\n",
        "else:\n",
        "    print(\"Not enough elements\")\n"
      ],
      "metadata": {
        "colab": {
          "base_uri": "https://localhost:8080/"
        },
        "id": "8WDvQQajdbxt",
        "outputId": "ee009650-bcf1-44a8-a72f-632b52478e11"
      },
      "execution_count": null,
      "outputs": [
        {
          "output_type": "stream",
          "name": "stdout",
          "text": [
            "Enter numbers: 8 7 0 6 87 4 88 \n",
            "Second largest number: 87\n"
          ]
        }
      ]
    },
    {
      "cell_type": "code",
      "source": [
        "#Q13)Find the most frequent element in a list.\n",
        "lst = list(map(int, input(\"Enter numbers: \").split()))\n",
        "max_count = 0\n",
        "most_freq = lst[0]\n",
        "\n",
        "for num in lst:\n",
        "    count = lst.count(num)\n",
        "    if count > max_count:\n",
        "        max_count = count\n",
        "        most_freq = num\n",
        "\n",
        "print(\"Most frequent element:\", most_freq)\n"
      ],
      "metadata": {
        "colab": {
          "base_uri": "https://localhost:8080/"
        },
        "id": "rRLtS_KAdbuH",
        "outputId": "491f3e62-8a75-4a4b-f9b1-51c7613a76c6"
      },
      "execution_count": null,
      "outputs": [
        {
          "output_type": "stream",
          "name": "stdout",
          "text": [
            "Enter numbers: 1 2 3 4 5 6 7 8 9 \n",
            "Most frequent element: 1\n"
          ]
        }
      ]
    },
    {
      "cell_type": "code",
      "source": [
        "#Q14)Merge two sorted lists.\n",
        "list1 = [10, 34, 89, 73, 89, 99,]\n",
        "list2 = [79, 87, 67, 52, 78, 66,19]\n",
        "merged = sorted(list1 + list2)\n",
        "print(\"Merged List:\", merged)\n",
        "\n"
      ],
      "metadata": {
        "colab": {
          "base_uri": "https://localhost:8080/"
        },
        "id": "KtgHD2AIdbrQ",
        "outputId": "9ef0c04a-bdb8-4a26-aba7-4451b4340d53"
      },
      "execution_count": 1,
      "outputs": [
        {
          "output_type": "stream",
          "name": "stdout",
          "text": [
            "Merged List: [10, 19, 34, 52, 66, 67, 73, 78, 79, 87, 89, 89, 99]\n"
          ]
        }
      ]
    },
    {
      "cell_type": "code",
      "source": [
        "#Q15)Find all pairs in a list whose sum is equal to a target.\n",
        "nums = list(map(int, input(\"Enter numbers: \").split()))\n",
        "target = int(input(\"Enter target sum: \"))\n",
        "\n",
        "for i in range(len(nums)):\n",
        "\n",
        "    for j in range(i+1, len(nums)):\n",
        "\n",
        "        if nums[i] + nums[j] == target:\n",
        "            print(f\"Pair: ({nums[i]}, {nums[j]})\")\n"
      ],
      "metadata": {
        "colab": {
          "base_uri": "https://localhost:8080/"
        },
        "id": "i1tUgb14dbok",
        "outputId": "271f99d9-cb3f-4d05-b7bb-67d18ad60c7e"
      },
      "execution_count": null,
      "outputs": [
        {
          "output_type": "stream",
          "name": "stdout",
          "text": [
            "Enter numbers: 2 4 3 5 7 \n",
            "Enter target sum: 9\n",
            "Pair: (2, 7)\n",
            "Pair: (4, 5)\n"
          ]
        }
      ]
    },
    {
      "cell_type": "code",
      "source": [
        "#Q16)Check if two strings are anagrams.\n",
        "a = input(\"Enter first string: \")\n",
        "b = input(\"Enter second string: \")\n",
        "\n",
        "if sorted(a) == sorted(b):\n",
        "    print(\"Strings are anagrams\")\n",
        "else:\n",
        "\n",
        "    print(\"Not anagrams\")\n"
      ],
      "metadata": {
        "colab": {
          "base_uri": "https://localhost:8080/"
        },
        "id": "fi9cZyAudbmJ",
        "outputId": "0546e3bc-1845-4b2e-fc0c-085861a09eb2"
      },
      "execution_count": null,
      "outputs": [
        {
          "output_type": "stream",
          "name": "stdout",
          "text": [
            "Enter first string: dog\n",
            "Enter second string: cat\n",
            "Not anagrams\n"
          ]
        }
      ]
    },
    {
      "cell_type": "code",
      "source": [
        "#Q17)Flatten a nested list.\n",
        "nested = [1, [2, [3, 4]], 5]\n",
        "flattened = []\n",
        "\n",
        "def flatten_list(lst):\n",
        "    for item in lst:\n",
        "        if isinstance(item, list):\n",
        "            flatten_list(item)\n",
        "        else:\n",
        "            flattened.append(item)\n",
        "\n",
        "flatten_list(nested)\n",
        "print(\"Flattened List:\", flattened)\n"
      ],
      "metadata": {
        "colab": {
          "base_uri": "https://localhost:8080/"
        },
        "id": "9lbPc5hwdbeb",
        "outputId": "652211c1-d5e5-448c-962a-68b08f5c6435"
      },
      "execution_count": 56,
      "outputs": [
        {
          "output_type": "stream",
          "name": "stdout",
          "text": [
            "Flattened List: [1, 2, 3, 4, 5]\n"
          ]
        }
      ]
    },
    {
      "cell_type": "code",
      "source": [
        "#Q18)Read a file and count word occurrences\n",
        "sentence = input(\"Enter a sentence: \")\n",
        "words = sentence.split()\n",
        "reversed_words = words[::-1]\n",
        "print(\"Reversed sentence:\", ' '.join(reversed_words))\n"
      ],
      "metadata": {
        "colab": {
          "base_uri": "https://localhost:8080/"
        },
        "id": "N-amFLXmdbci",
        "outputId": "e8a7f511-c3b2-42f5-cdd1-4bd325c69b81"
      },
      "execution_count": 75,
      "outputs": [
        {
          "output_type": "stream",
          "name": "stdout",
          "text": [
            "Enter a sentence: Hello DIsha\n",
            "Reversed sentence: DIsha Hello\n"
          ]
        }
      ]
    },
    {
      "cell_type": "code",
      "source": [
        "#Q19)Reverse words in a sentence.\n",
        "sentence = \"I am learning Python\"\n",
        "reversed_sentence = ' '.join(sentence.split()[::-1])\n",
        "print(reversed_sentence)\n",
        "\n"
      ],
      "metadata": {
        "id": "mNA-iAwxXAII",
        "colab": {
          "base_uri": "https://localhost:8080/"
        },
        "outputId": "c26380b4-5d6d-4d8c-e602-e4ae0a03e44b"
      },
      "execution_count": 74,
      "outputs": [
        {
          "output_type": "stream",
          "name": "stdout",
          "text": [
            "Python learning am I\n"
          ]
        }
      ]
    },
    {
      "cell_type": "code",
      "source": [
        "#Q20)Check balanced parentheses using stack.\n",
        "def is_balanced(expr):\n",
        "    stack = []\n",
        "    for char in expr:\n",
        "        if char in \"([{\": stack.append(char)\n",
        "        elif char in \")]}\":\n",
        "            if not stack or {')':'(', ']':'[', '}':'{'}[char] != stack.pop():\n",
        "                return False\n",
        "    return not stack\n",
        "\n",
        "# Example\n",
        "print(is_balanced(\"({[]})\"))\n"
      ],
      "metadata": {
        "colab": {
          "base_uri": "https://localhost:8080/"
        },
        "id": "xJrQCfLfeKL0",
        "outputId": "26632201-dce3-4243-d72e-0c9be50bd7ea"
      },
      "execution_count": 73,
      "outputs": [
        {
          "output_type": "stream",
          "name": "stdout",
          "text": [
            "True\n"
          ]
        }
      ]
    },
    {
      "cell_type": "code",
      "source": [
        "#Q21)Find all permutations of a string.\n",
        "from itertools import permutations\n",
        "\n",
        "s = \"abc\"\n",
        "perm = [''.join(p) for p in permutations(s)]\n",
        "print(perm)\n",
        "\n"
      ],
      "metadata": {
        "colab": {
          "base_uri": "https://localhost:8080/"
        },
        "id": "1em3NR-qeKIq",
        "outputId": "780b0ae5-cac7-4a86-8961-e84724e4955c"
      },
      "execution_count": 72,
      "outputs": [
        {
          "output_type": "stream",
          "name": "stdout",
          "text": [
            "['abc', 'acb', 'bac', 'bca', 'cab', 'cba']\n"
          ]
        }
      ]
    },
    {
      "cell_type": "code",
      "source": [
        "#Q22)Find the longest substring without repeating characters.\n",
        "s = \"abcabcbb\"\n",
        "start = max_len = 0\n",
        "used = {}\n",
        "\n",
        "for i, c in enumerate(s):\n",
        "    if c in used and start <= used[c]:\n",
        "        start = used[c] + 1\n",
        "    else:\n",
        "        max_len = max(max_len, i - start + 1)\n",
        "    used[c] = i\n",
        "\n",
        "print(\"Length:\", max_len)\n"
      ],
      "metadata": {
        "colab": {
          "base_uri": "https://localhost:8080/"
        },
        "id": "8LZiYjhGeKGW",
        "outputId": "4c92ef09-ba4d-4094-b681-c5ec9c1752c9"
      },
      "execution_count": 71,
      "outputs": [
        {
          "output_type": "stream",
          "name": "stdout",
          "text": [
            "Length: 3\n"
          ]
        }
      ]
    },
    {
      "cell_type": "code",
      "source": [
        "#Q23)Design a class to model a real-world system (e.g., ATM, Library).\n",
        "\n",
        "class ATM:\n",
        "    def __init__(self, balance=0):\n",
        "        self.balance = balance\n",
        "\n",
        "    def deposit(self, amount):\n",
        "        self.balance += amount\n",
        "\n",
        "    def withdraw(self, amount):\n",
        "        if self.balance >= amount:\n",
        "            self.balance -= amount\n",
        "        else:\n",
        "            print(\"Insufficient funds\")\n",
        "\n",
        "atm = ATM(1000)\n",
        "atm.withdraw(200)\n",
        "print(\"Balance:\", atm.balance)\n"
      ],
      "metadata": {
        "colab": {
          "base_uri": "https://localhost:8080/"
        },
        "id": "YlnrblaheKD6",
        "outputId": "e1a95c92-4803-47b5-bdea-2a6ac6589e42"
      },
      "execution_count": 70,
      "outputs": [
        {
          "output_type": "stream",
          "name": "stdout",
          "text": [
            "Balance: 800\n"
          ]
        }
      ]
    },
    {
      "cell_type": "code",
      "source": [
        "#Q24)Use decorators to time a function’s execution.\n",
        "import time\n",
        "\n",
        "def timer(func):\n",
        "    def wrapper():\n",
        "        start = time.time()\n",
        "        func()\n",
        "        print(\"Time:\", time.time() - start)\n",
        "    return wrapper\n",
        "\n",
        "@timer\n",
        "def test():\n",
        "    for _ in range(1000000): pass\n",
        "\n",
        "test()\n",
        "\n"
      ],
      "metadata": {
        "colab": {
          "base_uri": "https://localhost:8080/"
        },
        "id": "YJpBSVBLeKBi",
        "outputId": "fe408ff5-5f25-4254-c8c3-62626c922d2f"
      },
      "execution_count": 69,
      "outputs": [
        {
          "output_type": "stream",
          "name": "stdout",
          "text": [
            "Time: 0.022386789321899414\n"
          ]
        }
      ]
    },
    {
      "cell_type": "code",
      "source": [
        "#Q25)Implement a basic version of map/filter/reduce\n",
        "#map\n",
        "def my_map(func, lst):\n",
        "    return [func(x) for x in lst]\n",
        "\n",
        "# Example\n",
        "result = my_map(lambda x: x * 2, [1, 2, 3])\n",
        "print(\"Map:\", result)\n",
        "\n",
        "#filter\n",
        "def my_filter(func, lst):\n",
        "    return [x for x in lst if func(x)]\n",
        "\n",
        "# Example\n",
        "result = my_filter(lambda x: x % 2 == 0, [1, 2, 3, 4])\n",
        "print(\"Filter:\", result)\n",
        "\n",
        "#reduce\n",
        "def my_reduce(func, lst):\n",
        "    result = lst[0]\n",
        "    for x in lst[1:]:\n",
        "        result = func(result, x)\n",
        "    return result\n",
        "\n",
        "# Example\n",
        "result = my_reduce(lambda x, y: x + y, [1, 2, 3, 4])\n",
        "print(\"Reduce:\", result)"
      ],
      "metadata": {
        "colab": {
          "base_uri": "https://localhost:8080/"
        },
        "id": "nCGQSySweJ_D",
        "outputId": "d0ba129c-728c-4c37-bb68-f361c9241828"
      },
      "execution_count": 68,
      "outputs": [
        {
          "output_type": "stream",
          "name": "stdout",
          "text": [
            "Map: [2, 4, 6]\n",
            "Filter: [2, 4]\n",
            "Reduce: 10\n"
          ]
        }
      ]
    },
    {
      "cell_type": "code",
      "source": [
        "#Q26)Using NumPy, create a 3x3 matrix with values from 1 to 9.\n",
        "import numpy as np\n",
        "\n",
        "matrix = np.arange(1, 10).reshape(3, 3)\n",
        "print(matrix)\n",
        "\n"
      ],
      "metadata": {
        "colab": {
          "base_uri": "https://localhost:8080/"
        },
        "id": "Wtopt7wgeJ8o",
        "outputId": "867c20d3-d2a5-4e2d-a9bc-070166ecff4a"
      },
      "execution_count": 67,
      "outputs": [
        {
          "output_type": "stream",
          "name": "stdout",
          "text": [
            "[[1 2 3]\n",
            " [4 5 6]\n",
            " [7 8 9]]\n"
          ]
        }
      ]
    },
    {
      "cell_type": "code",
      "source": [
        "#Q27)Replace all missing values (NaN) in a pandas DataFrame with the mean.\n",
        "import pandas as pd\n",
        "import numpy as np\n",
        "\n",
        "# Example DataFrame\n",
        "data = {'A': [1, 2, np.nan], 'B': [4, np.nan, 6]}\n",
        "df = pd.DataFrame(data)\n",
        "\n",
        "# Replace NaN with column mean\n",
        "df.fillna(df.mean(), inplace=True)\n",
        "\n",
        "print(df)\n"
      ],
      "metadata": {
        "colab": {
          "base_uri": "https://localhost:8080/"
        },
        "id": "2KaDZcn_eJ6X",
        "outputId": "7953068e-4698-4920-8628-1e48b9d095dd"
      },
      "execution_count": 66,
      "outputs": [
        {
          "output_type": "stream",
          "name": "stdout",
          "text": [
            "     A    B\n",
            "0  1.0  4.0\n",
            "1  2.0  5.0\n",
            "2  1.5  6.0\n"
          ]
        }
      ]
    },
    {
      "cell_type": "code",
      "source": [
        "#Q28)Group a DataFrame by a column and calculate the average.\n",
        "import pandas as pd\n",
        "\n",
        "# Sample DataFrame\n",
        "data = {\n",
        "    'Department': ['HR', 'HR', 'IT', 'IT', 'Finance'],\n",
        "    'Salary': [30000, 32000, 40000, 42000, 50000]\n",
        "}\n",
        "df = pd.DataFrame(data)\n",
        "\n",
        "# Group by 'Department' and calculate average salary\n",
        "avg_salary = df.groupby('Department')['Salary'].mean()\n",
        "\n",
        "print(avg_salary)\n"
      ],
      "metadata": {
        "colab": {
          "base_uri": "https://localhost:8080/"
        },
        "id": "nwmVYdHWeJ4J",
        "outputId": "13eb9e27-7b43-4685-dff6-69421523be19"
      },
      "execution_count": 65,
      "outputs": [
        {
          "output_type": "stream",
          "name": "stdout",
          "text": [
            "Department\n",
            "Finance    50000.0\n",
            "HR         31000.0\n",
            "IT         41000.0\n",
            "Name: Salary, dtype: float64\n"
          ]
        }
      ]
    },
    {
      "cell_type": "code",
      "source": [
        "#Q29)Write a function to calculate RMSE.\n",
        "import numpy as np\n",
        "\n",
        "def rmse(y_true, y_pred):\n",
        "    return np.sqrt(np.mean((y_true - y_pred) ** 2))\n",
        "\n",
        "#example\n",
        "y_true = np.array([1, 2, 3, 4, 5])\n",
        "y_pred = np.array([1.5, 2.5, 3.5, 4.5, 5.5])\n",
        "print(\"RMSE:\", rmse(y_true, y_pred))\n",
        "\n",
        "\n"
      ],
      "metadata": {
        "colab": {
          "base_uri": "https://localhost:8080/"
        },
        "id": "1W1jxtgjeJ1v",
        "outputId": "0a9a58f1-e8d7-412a-ad35-516de8cf65b5"
      },
      "execution_count": 64,
      "outputs": [
        {
          "output_type": "stream",
          "name": "stdout",
          "text": [
            "RMSE: 0.5\n"
          ]
        }
      ]
    },
    {
      "cell_type": "code",
      "source": [
        "#Q30)Perform normalization (MinMax and Z-score).\n",
        "import numpy as np\n",
        "\n",
        "data = [10, 20, 30, 40, 50]\n",
        "\n",
        "# Min-Max Normalization\n",
        "minmax = [(x - min(data)) / (max(data) - min(data)) for x in data]\n",
        "print(\"MinMax:\", minmax)\n",
        "\n",
        "# Z-Score Normalization\n",
        "mean = np.mean(data)\n",
        "std = np.std(data)\n",
        "zscore = [(x - mean) / std for x in data]\n",
        "print(\"Z-Score:\", zscore)\n"
      ],
      "metadata": {
        "colab": {
          "base_uri": "https://localhost:8080/"
        },
        "id": "eKzkEFkmeJza",
        "outputId": "14f83c84-fcb0-4708-8614-c96a406b167b"
      },
      "execution_count": 63,
      "outputs": [
        {
          "output_type": "stream",
          "name": "stdout",
          "text": [
            "MinMax: [0.0, 0.25, 0.5, 0.75, 1.0]\n",
            "Z-Score: [np.float64(-1.414213562373095), np.float64(-0.7071067811865475), np.float64(0.0), np.float64(0.7071067811865475), np.float64(1.414213562373095)]\n"
          ]
        }
      ]
    },
    {
      "cell_type": "code",
      "source": [
        "#Q31)Split a dataset into training and test set without sklearn.\n",
        "import random\n",
        "\n",
        "data = [1, 2, 3, 4, 5, 6, 7, 8, 9, 10]\n",
        "random.shuffle(data)\n",
        "\n",
        "split = int(0.8 * len(data))\n",
        "train = data[:split]\n",
        "test = data[split:]\n",
        "\n",
        "print(\"Train:\", train)\n",
        "print(\"Test:\", test)\n",
        "\n"
      ],
      "metadata": {
        "id": "AxZEzbDcCBt0",
        "colab": {
          "base_uri": "https://localhost:8080/"
        },
        "outputId": "9f0fa82f-7e97-445e-b1cc-b286b7f7a86f"
      },
      "execution_count": 62,
      "outputs": [
        {
          "output_type": "stream",
          "name": "stdout",
          "text": [
            "Train: [5, 4, 10, 2, 6, 8, 3, 1]\n",
            "Test: [9, 7]\n"
          ]
        }
      ]
    },
    {
      "cell_type": "code",
      "source": [
        "#Q32)Implement gradient descent for linear regression.\n",
        "def gradient_descent(x, y, lr=0.01, epochs=1000):\n",
        "    m = c = 0\n",
        "    n = len(x)\n",
        "    for _ in range(epochs):\n",
        "        y_pred = [m*i + c for i in x]\n",
        "        dm = (-2/n) * sum(x[i]*(y[i]-y_pred[i]) for i in range(n))\n",
        "        dc = (-2/n) * sum(y[i]-y_pred[i] for i in range(n))\n",
        "        m -= lr * dm\n",
        "        c -= lr * dc\n",
        "    return m, c\n",
        "\n",
        "# Example\n",
        "x = [1, 2, 3, 4, 5]\n",
        "y = [2, 4, 5, 4, 5]\n",
        "m, c = gradient_descent(x, y)\n",
        "print(f\"y = {m:.2f}x + {c:.2f}\")\n"
      ],
      "metadata": {
        "id": "zMpBAxN-B9Ul",
        "colab": {
          "base_uri": "https://localhost:8080/"
        },
        "outputId": "7f3323f5-ca31-4906-e715-43cbb33b70ea"
      },
      "execution_count": 61,
      "outputs": [
        {
          "output_type": "stream",
          "name": "stdout",
          "text": [
            "y = 0.62x + 2.14\n"
          ]
        }
      ]
    },
    {
      "cell_type": "code",
      "source": [
        "#Q33)Write a custom function to calculate correlation coefficient.\n",
        "def correlation(x, y):\n",
        "    n = len(x)\n",
        "    mean_x, mean_y = sum(x)/n, sum(y)/n\n",
        "    num = sum((x[i] - mean_x) * (y[i] - mean_y) for i in range(n))\n",
        "    den = (sum((x[i] - mean_x)**2 for i in range(n)) * sum((y[i] - mean_y)**2 for i in range(n))) ** 0.5\n",
        "    return num / den\n",
        "\n",
        "# Example\n",
        "x = [1, 2, 3, 4]\n",
        "y = [10, 20, 30, 40]\n",
        "print(\"Correlation:\", correlation(x, y))\n"
      ],
      "metadata": {
        "id": "q9nySXj4B9Qr",
        "colab": {
          "base_uri": "https://localhost:8080/"
        },
        "outputId": "1fa26ee5-824f-4946-fb0f-3fb46e539020"
      },
      "execution_count": 60,
      "outputs": [
        {
          "output_type": "stream",
          "name": "stdout",
          "text": [
            "Correlation: 1.0\n"
          ]
        }
      ]
    },
    {
      "cell_type": "code",
      "source": [
        "#Q34)Filter rows in a DataFrame based on multiple conditions.\n",
        "import pandas as pd\n",
        "\n",
        "df = pd.DataFrame({\n",
        "    'Age': [25, 30, 35, 40],\n",
        "    'Salary': [40000, 50000, 60000, 70000]\n",
        "})\n",
        "\n",
        "filtered = df[(df['Age'] > 30) & (df['Salary'] > 50000)]\n",
        "print(filtered)\n",
        "\n",
        "\n",
        "\n"
      ],
      "metadata": {
        "id": "PBTxElViB9Ny",
        "colab": {
          "base_uri": "https://localhost:8080/"
        },
        "outputId": "413ccee0-3ad5-4e48-f984-6112615ea94b"
      },
      "execution_count": 59,
      "outputs": [
        {
          "output_type": "stream",
          "name": "stdout",
          "text": [
            "   Age  Salary\n",
            "2   35   60000\n",
            "3   40   70000\n"
          ]
        }
      ]
    },
    {
      "cell_type": "code",
      "source": [
        "#Q35)Write a Python function to calculate p-value from scratch ---mainly in datascience\n",
        "import math\n",
        "\n",
        "def normal_cdf(x):  # Standard normal CDF\n",
        "    return (1 + math.erf(x / math.sqrt(2))) / 2\n",
        "\n",
        "def calculate_p_value(z):\n",
        "    return 2 * (1 - normal_cdf(abs(z)))  # Two-tailed\n",
        "\n",
        "# Example\n",
        "z = 1.96\n",
        "print(\"P-Value:\", calculate_p_value(z))"
      ],
      "metadata": {
        "id": "ozFVE-uEB9K8",
        "colab": {
          "base_uri": "https://localhost:8080/"
        },
        "outputId": "9da5a98e-8120-4dc6-837a-7f348a852e3c"
      },
      "execution_count": 58,
      "outputs": [
        {
          "output_type": "stream",
          "name": "stdout",
          "text": [
            "P-Value: 0.049995790296440745\n"
          ]
        }
      ]
    },
    {
      "cell_type": "code",
      "source": [],
      "metadata": {
        "id": "hHWeJwiiB9IE"
      },
      "execution_count": null,
      "outputs": []
    },
    {
      "cell_type": "code",
      "source": [],
      "metadata": {
        "id": "V5Tvyr2KB9Fe"
      },
      "execution_count": null,
      "outputs": []
    },
    {
      "cell_type": "code",
      "source": [],
      "metadata": {
        "id": "XsI_vHGPB9C0"
      },
      "execution_count": null,
      "outputs": []
    },
    {
      "cell_type": "code",
      "source": [],
      "metadata": {
        "id": "tPhE80dLB9AQ"
      },
      "execution_count": null,
      "outputs": []
    },
    {
      "cell_type": "code",
      "source": [],
      "metadata": {
        "id": "O04I3rT6B89h"
      },
      "execution_count": null,
      "outputs": []
    },
    {
      "cell_type": "code",
      "source": [],
      "metadata": {
        "id": "seq0_whTB862"
      },
      "execution_count": null,
      "outputs": []
    },
    {
      "cell_type": "code",
      "source": [],
      "metadata": {
        "id": "081jdC_fB84W"
      },
      "execution_count": null,
      "outputs": []
    },
    {
      "cell_type": "code",
      "source": [],
      "metadata": {
        "id": "SHNuvioaB81W"
      },
      "execution_count": null,
      "outputs": []
    },
    {
      "cell_type": "code",
      "source": [],
      "metadata": {
        "id": "OG-zo8ntB8ys"
      },
      "execution_count": null,
      "outputs": []
    },
    {
      "cell_type": "code",
      "source": [],
      "metadata": {
        "id": "Wh-5dZmWB8wE"
      },
      "execution_count": null,
      "outputs": []
    },
    {
      "cell_type": "code",
      "source": [],
      "metadata": {
        "id": "dbFSdBHOB8tQ"
      },
      "execution_count": null,
      "outputs": []
    },
    {
      "cell_type": "code",
      "source": [],
      "metadata": {
        "id": "2oIfvUvaB8qU"
      },
      "execution_count": null,
      "outputs": []
    },
    {
      "cell_type": "code",
      "source": [],
      "metadata": {
        "id": "RNSuCPjhB8oE"
      },
      "execution_count": null,
      "outputs": []
    }
  ]
}